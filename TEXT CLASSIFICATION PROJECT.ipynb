{
 "cells": [
  {
   "cell_type": "code",
   "execution_count": 23,
   "id": "f1a84e13",
   "metadata": {},
   "outputs": [],
   "source": [
    "from sklearn.datasets import fetch_20newsgroups\n",
    "from nltk.corpus import stopwords\n",
    "from nltk.tokenize import word_tokenize\n",
    "from sklearn.model_selection import train_test_split\n",
    "import numpy as np\n",
    "import pandas as pd\n",
    "from sklearn.naive_bayes import MultinomialNB\n",
    "import string"
   ]
  },
  {
   "cell_type": "code",
   "execution_count": 24,
   "id": "9191ef52",
   "metadata": {},
   "outputs": [],
   "source": [
    "datasett = fetch_20newsgroups()\n",
    "stopwords = set(stopwords.words('english'))\n",
    "stopwords.update(list(string.punctuation))"
   ]
  },
  {
   "cell_type": "code",
   "execution_count": 53,
   "id": "12e9fcfa",
   "metadata": {},
   "outputs": [],
   "source": [
    "x = datasett.data\n",
    "y = datasett.target\n",
    "x = np.array(x)\n",
    "x_modified = [word_tokenize(i) for i in x]"
   ]
  },
  {
   "cell_type": "code",
   "execution_count": 55,
   "id": "c5ca371e",
   "metadata": {},
   "outputs": [],
   "source": [
    "x_train, x_test, y_train, y_test = train_test_split(x_modified, y)"
   ]
  },
  {
   "cell_type": "code",
   "execution_count": 61,
   "id": "da272e01",
   "metadata": {},
   "outputs": [],
   "source": [
    "useful_words = []\n",
    "for current in x_train:\n",
    "    for word in current:\n",
    "        if word.lower() not in stopwords and len(word) != 1 and len(word) != 2 and word[0] != \"'\" and word[0] != \".\" and word[0] != \"n't\":\n",
    "            useful_words.append(word)\n",
    "def freq_dict(words):\n",
    "    dic = dict()\n",
    "    for word in words:\n",
    "        if word in dic.keys():\n",
    "            dic[word] += 1\n",
    "        else:\n",
    "            dic[word] = 1\n",
    "    return dic\n",
    "dic = freq_dict(useful_words)          "
   ]
  },
  {
   "cell_type": "code",
   "execution_count": 62,
   "id": "978ccd1b",
   "metadata": {},
   "outputs": [],
   "source": [
    "freq = np.array([i for i in dic.values()])\n",
    "words = np.array([i for i in dic.keys()])\n",
    "freq = np.sort(freq)[::-1]\n",
    "words = words[np.argsort(freq)][::-1]"
   ]
  },
  {
   "cell_type": "code",
   "execution_count": 63,
   "id": "3feaf2b6",
   "metadata": {},
   "outputs": [
    {
     "data": {
      "image/png": "[encoded data removed]",
      "text/plain": [
       "<Figure size 1440x504 with 1 Axes>"
      ]
     },
     "metadata": {
      "needs_background": "light"
     },
     "output_type": "display_data"
    }
   ],
   "source": [
    "import matplotlib.pyplot as plt\n",
    "low = 0\n",
    "high = 3000\n",
    "difference = 50\n",
    "plt.figure(figsize = (20, 7))\n",
    "plt.plot(np.arange(len(freq))[low:high], freq[low:high], color = \"purple\")\n",
    "plt.xlabel('words(Nth Word)-->')\n",
    "plt.ylabel('frequency-->')\n",
    "plt.grid()\n",
    "plt.show()"
   ]
  },
  {
   "cell_type": "code",
   "execution_count": 68,
   "id": "f9c7e913",
   "metadata": {},
   "outputs": [],
   "source": [
    "def data_modifier(x_data, features):\n",
    "    modified_data = np.zeros((len(x_data), len(features)))\n",
    "    for i in range(len(x_data)):\n",
    "        current = x_data[i]\n",
    "        d = dict()\n",
    "        for word in current:\n",
    "            if word in d.keys():\n",
    "                d[word] += 1\n",
    "            else:\n",
    "                d[word] = 1\n",
    "        for j in range(len(features)):\n",
    "            if features[j] in dic.keys():\n",
    "                modified_data[i][j] = d[features[j]]\n",
    "    return modified_data"
   ]
  },
  {
   "cell_type": "code",
   "execution_count": 69,
   "id": "6f504be5",
   "metadata": {},
   "outputs": [
    {
     "ename": "MemoryError",
     "evalue": "Unable to allocate 6.32 GiB for an array with shape (8485, 99980) and data type float64",
     "output_type": "error",
     "traceback": [
      "\u001b[1;31m---------------------------------------------------------------------------\u001b[0m",
      "\u001b[1;31mMemoryError\u001b[0m                               Traceback (most recent call last)",
      "\u001b[1;32m~\\AppData\\Local\\Temp/ipykernel_8748/3955811169.py\u001b[0m in \u001b[0;36m<module>\u001b[1;34m\u001b[0m\n\u001b[0;32m      1\u001b[0m \u001b[0mfeatures\u001b[0m \u001b[1;33m=\u001b[0m \u001b[0mwords\u001b[0m\u001b[1;33m[\u001b[0m\u001b[1;36m20\u001b[0m\u001b[1;33m:\u001b[0m\u001b[1;36m100000\u001b[0m\u001b[1;33m]\u001b[0m\u001b[1;33m\u001b[0m\u001b[1;33m\u001b[0m\u001b[0m\n\u001b[1;32m----> 2\u001b[1;33m \u001b[0mx_train_modified\u001b[0m \u001b[1;33m=\u001b[0m \u001b[0mdata_modifier\u001b[0m\u001b[1;33m(\u001b[0m\u001b[0mx_train\u001b[0m\u001b[1;33m,\u001b[0m \u001b[0mfeatures\u001b[0m\u001b[1;33m)\u001b[0m\u001b[1;33m\u001b[0m\u001b[1;33m\u001b[0m\u001b[0m\n\u001b[0m\u001b[0;32m      3\u001b[0m \u001b[0mx_test_modified\u001b[0m \u001b[1;33m=\u001b[0m \u001b[0mdata_modifier\u001b[0m\u001b[1;33m(\u001b[0m\u001b[0mx_test\u001b[0m\u001b[1;33m,\u001b[0m \u001b[0mfeatures\u001b[0m\u001b[1;33m)\u001b[0m\u001b[1;33m\u001b[0m\u001b[1;33m\u001b[0m\u001b[0m\n",
      "\u001b[1;32m~\\AppData\\Local\\Temp/ipykernel_8748/2502332944.py\u001b[0m in \u001b[0;36mdata_modifier\u001b[1;34m(x_data, features)\u001b[0m\n\u001b[0;32m      1\u001b[0m \u001b[1;32mdef\u001b[0m \u001b[0mdata_modifier\u001b[0m\u001b[1;33m(\u001b[0m\u001b[0mx_data\u001b[0m\u001b[1;33m,\u001b[0m \u001b[0mfeatures\u001b[0m\u001b[1;33m)\u001b[0m\u001b[1;33m:\u001b[0m\u001b[1;33m\u001b[0m\u001b[1;33m\u001b[0m\u001b[0m\n\u001b[1;32m----> 2\u001b[1;33m     \u001b[0mmodified_data\u001b[0m \u001b[1;33m=\u001b[0m \u001b[0mnp\u001b[0m\u001b[1;33m.\u001b[0m\u001b[0mzeros\u001b[0m\u001b[1;33m(\u001b[0m\u001b[1;33m(\u001b[0m\u001b[0mlen\u001b[0m\u001b[1;33m(\u001b[0m\u001b[0mx_data\u001b[0m\u001b[1;33m)\u001b[0m\u001b[1;33m,\u001b[0m \u001b[0mlen\u001b[0m\u001b[1;33m(\u001b[0m\u001b[0mfeatures\u001b[0m\u001b[1;33m)\u001b[0m\u001b[1;33m)\u001b[0m\u001b[1;33m)\u001b[0m\u001b[1;33m\u001b[0m\u001b[1;33m\u001b[0m\u001b[0m\n\u001b[0m\u001b[0;32m      3\u001b[0m     \u001b[1;32mfor\u001b[0m \u001b[0mi\u001b[0m \u001b[1;32min\u001b[0m \u001b[0mrange\u001b[0m\u001b[1;33m(\u001b[0m\u001b[0mlen\u001b[0m\u001b[1;33m(\u001b[0m\u001b[0mx_data\u001b[0m\u001b[1;33m)\u001b[0m\u001b[1;33m)\u001b[0m\u001b[1;33m:\u001b[0m\u001b[1;33m\u001b[0m\u001b[1;33m\u001b[0m\u001b[0m\n\u001b[0;32m      4\u001b[0m         \u001b[0mcurrent\u001b[0m \u001b[1;33m=\u001b[0m \u001b[0mx_data\u001b[0m\u001b[1;33m[\u001b[0m\u001b[0mi\u001b[0m\u001b[1;33m]\u001b[0m\u001b[1;33m\u001b[0m\u001b[1;33m\u001b[0m\u001b[0m\n\u001b[0;32m      5\u001b[0m         \u001b[0md\u001b[0m \u001b[1;33m=\u001b[0m \u001b[0mdict\u001b[0m\u001b[1;33m(\u001b[0m\u001b[1;33m)\u001b[0m\u001b[1;33m\u001b[0m\u001b[1;33m\u001b[0m\u001b[0m\n",
      "\u001b[1;31mMemoryError\u001b[0m: Unable to allocate 6.32 GiB for an array with shape (8485, 99980) and data type float64"
     ]
    }
   ],
   "source": [
    "features = words[20:100000]\n",
    "x_train_modified = data_modifier(x_train, features)\n",
    "x_test_modified = data_modifier(x_test, features)"
   ]
  },
  {
   "cell_type": "code",
   "execution_count": null,
   "id": "17f143ba",
   "metadata": {},
   "outputs": [],
   "source": []
  }
 ],
 "metadata": {
  "kernelspec": {
   "display_name": "Python 3 (ipykernel)",
   "language": "python",
   "name": "python3"
  },
  "language_info": {
   "codemirror_mode": {
    "name": "ipython",
    "version": 3
   },
   "file_extension": ".py",
   "mimetype": "text/x-python",
   "name": "python",
   "nbconvert_exporter": "python",
   "pygments_lexer": "ipython3",
   "version": "3.9.5"
  }
 },
 "nbformat": 4,
 "nbformat_minor": 5
}
